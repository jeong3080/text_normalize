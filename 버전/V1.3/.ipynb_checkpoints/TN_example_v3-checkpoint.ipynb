{
 "cells": [
  {
   "cell_type": "markdown",
   "id": "1b073464",
   "metadata": {},
   "source": [
    "v3 fight => fi그램ht 개선\n",
    "\n",
    "v4 개선 예정 사항: 특정 형식 010-3887-9780, jeong3080@naver.com 등등 168.112.221.28 잘 읽일 수 있도록 규칙화\n"
   ]
  },
  {
   "cell_type": "code",
   "execution_count": 2,
   "id": "ba15532c",
   "metadata": {},
   "outputs": [
    {
     "data": {
      "text/plain": [
       "'fikghting 파이팅 열두시 일미터 일미터 일미터 일미터 일미터 일미터 일미터 일미터 일미터 일미터 일미터  일미터 일미터 일미터 일미터 일미터 일미터 일미터 일미터 일미터 일미터 일미터<br>0.0001초'"
      ]
     },
     "execution_count": 2,
     "metadata": {},
     "output_type": "execute_result"
    }
   ],
   "source": [
    "from text_normalize_v3 import normalize\n",
    "normalize(\"fikghting fighting 12시 1m 1m 1m 1m 1m 1m 1m 1m 1m 1m 1m  1m 1m 1m 1m 1m 1m 1m 1m 1m 1m 1m\")"
   ]
  }
 ],
 "metadata": {
  "kernelspec": {
   "display_name": "TTS",
   "language": "python",
   "name": "tts"
  },
  "language_info": {
   "codemirror_mode": {
    "name": "ipython",
    "version": 3
   },
   "file_extension": ".py",
   "mimetype": "text/x-python",
   "name": "python",
   "nbconvert_exporter": "python",
   "pygments_lexer": "ipython3",
   "version": "3.8.13"
  }
 },
 "nbformat": 4,
 "nbformat_minor": 5
}
