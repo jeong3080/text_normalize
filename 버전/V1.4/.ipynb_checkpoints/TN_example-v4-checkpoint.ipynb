{
 "cells": [
  {
   "cell_type": "markdown",
   "id": "1b073464",
   "metadata": {},
   "source": [
    "v4 개선 예정 사항: 특정 형식 010-3887-9780, jeong3080@naver.com 등등 168.112.221.28 잘 읽일 수 있도록 규칙화"
   ]
  },
  {
   "cell_type": "markdown",
   "id": "6dc19151",
   "metadata": {},
   "source": [
    "## Phone"
   ]
  },
  {
   "cell_type": "code",
   "execution_count": 1,
   "id": "0c473de7",
   "metadata": {},
   "outputs": [],
   "source": [
    "from text_normalize_v4 import normalize\n",
    "import json\n",
    "with open('tn_dic_v4.json', 'r') as f:\n",
    "    tn_dic = json.load(f)"
   ]
  },
  {
   "cell_type": "code",
   "execution_count": 24,
   "id": "975ca65a",
   "metadata": {},
   "outputs": [],
   "source": [
    "phone_to_kor = tn_dic[\"phone_to_kor\"]\n",
    "phone_checker = \"([0-9]{3}-[0-9]{4}-[0-9]{4})\"\n",
    "def normalize_phone_format(text):\n",
    "    result = \"\".join([phone_to_kor[i] for i in text.group()])        \n",
    "    return result"
   ]
  },
  {
   "cell_type": "code",
   "execution_count": 25,
   "id": "8439821a",
   "metadata": {},
   "outputs": [],
   "source": [
    "email_to_kor = tn_dic[\"email_to_kor\"]\n",
    "email_checker = \"^\\S+@\\S+\\.\\S+$\"\n",
    "def normalize_email_format(text):\n",
    "    result = \"\".join([email_to_kor[i] for i in text.group()])        \n",
    "    return result"
   ]
  },
  {
   "cell_type": "code",
   "execution_count": 50,
   "id": "d6d46815",
   "metadata": {},
   "outputs": [],
   "source": [
    "ip_to_kor = tn_dic[\"ip_to_kor\"]\n",
    "ip_checker = \"(25[0-5]|2[0-4]\\d|1\\d\\d|[1-9]?\\d)(\\.(25[0-5]|2[0-4]\\d|1\\d\\d|[1-9]?\\d)){3}\"\n",
    "def normalize_ip_format(text):\n",
    "    result = \"\".join([email_to_kor[i] for i in text.group()])        \n",
    "    return result\n"
   ]
  },
  {
   "cell_type": "code",
   "execution_count": 53,
   "id": "5e410266",
   "metadata": {},
   "outputs": [
    {
     "data": {
      "text/plain": [
       "'제이이오엔지삼공팔공엣엔에이브이이알쩜씨오엠'"
      ]
     },
     "execution_count": 53,
     "metadata": {},
     "output_type": "execute_result"
    }
   ],
   "source": [
    "import re\n",
    "re.sub(email_checker, lambda x: normalize_email_format(x),'''jeong3080@naver.com''' )"
   ]
  },
  {
   "cell_type": "code",
   "execution_count": 52,
   "id": "116b5816",
   "metadata": {},
   "outputs": [
    {
     "data": {
      "text/plain": [
       "'공일공 삼팔팔칠 구칠팔공'"
      ]
     },
     "execution_count": 52,
     "metadata": {},
     "output_type": "execute_result"
    }
   ],
   "source": [
    "import re\n",
    "re.sub(phone_checker, lambda x: normalize_phone_format(x),'''010-3887-9780''' )"
   ]
  },
  {
   "cell_type": "code",
   "execution_count": 51,
   "id": "eb76c1c1",
   "metadata": {},
   "outputs": [
    {
     "data": {
      "text/plain": [
       "'일육오쩜일삼이쩜일일육쩜이팔'"
      ]
     },
     "execution_count": 51,
     "metadata": {},
     "output_type": "execute_result"
    }
   ],
   "source": [
    "import re\n",
    "re.sub(ip_checker, lambda x: normalize_ip_format(x),'''165.132.116.28''' )"
   ]
  },
  {
   "cell_type": "code",
   "execution_count": null,
   "id": "4844bab8",
   "metadata": {},
   "outputs": [],
   "source": []
  },
  {
   "cell_type": "code",
   "execution_count": 54,
   "id": "512e40ec",
   "metadata": {},
   "outputs": [],
   "source": [
    "phone_checker = \"([0-9]{3}-[0-9]{4}-[0-9]{4})\"\n",
    "def normalize_special_format(text):\n",
    "    text = re.sub(\n",
    "        number_checker + count_checker, lambda x: number_to_korean(x, True), text\n",
    "    )\n",
    "    text = re.sub(number_checker + count_checker_eng_1, lambda x: unit_english_to_korean_1(x),text)\n",
    "    text = re.sub(number_checker + count_checker_eng_2, lambda x: unit_english_to_korean_2(x),text)\n",
    "    text = re.sub(number_checker, lambda x: number_to_korean(x, False), text)\n",
    "    return text"
   ]
  },
  {
   "cell_type": "code",
   "execution_count": 44,
   "id": "b0a3bca1",
   "metadata": {},
   "outputs": [
    {
     "name": "stdout",
     "output_type": "stream",
     "text": [
      "0.030321359634399414\n"
     ]
    }
   ],
   "source": [
    "import time\n",
    "start = time.time()\n",
    "for i in range(1000):\n",
    "    normalize(\"'010-3887-9780 010-1234-5678 Kim 011-1234-5678 Lee 016-1234-5678 Han\")\n",
    "print(time.time()-start)"
   ]
  },
  {
   "cell_type": "code",
   "execution_count": 45,
   "id": "e38cee5b",
   "metadata": {},
   "outputs": [
    {
     "name": "stdout",
     "output_type": "stream",
     "text": [
      "0.005496025085449219\n"
     ]
    }
   ],
   "source": [
    "import time\n",
    "start = time.time()\n",
    "for i in range(1000):\n",
    "    normalize(\"Kim\")\n",
    "print(time.time()-start)"
   ]
  },
  {
   "cell_type": "code",
   "execution_count": null,
   "id": "ac51790f",
   "metadata": {},
   "outputs": [],
   "source": []
  }
 ],
 "metadata": {
  "kernelspec": {
   "display_name": "TTS",
   "language": "python",
   "name": "tts"
  },
  "language_info": {
   "codemirror_mode": {
    "name": "ipython",
    "version": 3
   },
   "file_extension": ".py",
   "mimetype": "text/x-python",
   "name": "python",
   "nbconvert_exporter": "python",
   "pygments_lexer": "ipython3",
   "version": "3.8.13"
  }
 },
 "nbformat": 4,
 "nbformat_minor": 5
}
