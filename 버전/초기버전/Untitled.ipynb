{
 "cells": [
  {
   "cell_type": "code",
   "execution_count": 1,
   "id": "b25d7aa9",
   "metadata": {},
   "outputs": [],
   "source": [
    "from text_normalize import normalize\n",
    "from tqdm import tqdm"
   ]
  },
  {
   "cell_type": "code",
   "execution_count": 2,
   "id": "1da9e012",
   "metadata": {},
   "outputs": [],
   "source": [
    "from cmuToKorean import CMUToKorean"
   ]
  },
  {
   "cell_type": "code",
   "execution_count": 3,
   "id": "d27f7d65",
   "metadata": {},
   "outputs": [
    {
     "name": "stdout",
     "output_type": "stream",
     "text": [
      "0 AE1 AE 1\n",
      "-1 {'AA': [<cmuToKorean.CMUToKorean.Control.IF object at 0x7fb849ba6eb0>], 'AO': ['오', '어'], 'AE': ['애'], 'AY': ['아이', '애이', '아이+', '애이+'], 'AH': [<cmuToKorean.CMUToKorean.Control.IF object at 0x7fb849ba6100>], 'AW': ['아우', '오우', '아우+', '오우+'], 'EH': ['에'], 'ER': [<cmuToKorean.CMUToKorean.Control.IF object at 0x7fb8482b2d60>, <cmuToKorean.CMUToKorean.Control.IF object at 0x7fb8482b2f70>], 'EY': ['에이', '에이+', '에'], 'EY2': ['에이', '에이+'], 'IH': ['이'], 'IY': ['이', '이+'], 'UW': ['우', '우+'], 'UH': [<cmuToKorean.CMUToKorean.Control.IF object at 0x7fb848262070>], 'OW': [<cmuToKorean.CMUToKorean.Control.IF object at 0x7fb848262610>], 'OY': ['오이', '오이+']}\n",
      "1 [[['AE1'], 'A'], [['L', 'G'], 'LG'], [['ER0'], 'OR'], [['IH2'], 'I'], [['DH', 'AH0', 'M'], 'THM']] [0, 0] [] ['애']\n",
      "2 ['애']\n",
      "0 L L None\n",
      "-1 {'B': ['ㅂ'], 'D': ['ㄷ'], 'F': ['ㅍ'], 'G': ['ㄱ'], 'K': ['ㅋ'], 'M': ['ㅁ'], 'N': ['ㄴ'], 'P': ['ㅍ'], 'T': ['ㅌ'], 'V': ['ㅂ'], 'HH': ['/ㅎ'], 'Z': [<cmuToKorean.CMUToKorean.Control.IF object at 0x7fb848262700>], 'L': [<cmuToKorean.CMUToKorean.Control.IF object at 0x7fb848262850>], 'R': [<cmuToKorean.CMUToKorean.Control.IF object at 0x7fb848262cd0>], 'S': [<cmuToKorean.CMUToKorean.Control.IF object at 0x7fb8482631c0>], 'NG': [<cmuToKorean.CMUToKorean.Control.IF object at 0x7fb848263640>], 'SH': ['/ㅅ#'], 'CH': [<cmuToKorean.CMUToKorean.Control.IF object at 0x7fb848263700>], 'DH': [<cmuToKorean.CMUToKorean.Control.IF object at 0x7fb8482638e0>], 'JH': [<cmuToKorean.CMUToKorean.Control.IF object at 0x7fb848263cd0>], 'TH': [<cmuToKorean.CMUToKorean.Control.IF object at 0x7fb848263d90>], 'ZH': [<cmuToKorean.CMUToKorean.Control.IF object at 0x7fb848268100>]}\n",
      "1 [[['AE1'], 'A'], [['L', 'G'], 'LG'], [['ER0'], 'OR'], [['IH2'], 'I'], [['DH', 'AH0', 'M'], 'THM']] [1, 0] ['애'] [<cmuToKorean.CMUToKorean.Control.IF object at 0x7fb848262850>]\n",
      "2 ['애ㄹ^']\n",
      "0 G G None\n",
      "-1 {'B': ['ㅂ'], 'D': ['ㄷ'], 'F': ['ㅍ'], 'G': ['ㄱ'], 'K': ['ㅋ'], 'M': ['ㅁ'], 'N': ['ㄴ'], 'P': ['ㅍ'], 'T': ['ㅌ'], 'V': ['ㅂ'], 'HH': ['/ㅎ'], 'Z': [<cmuToKorean.CMUToKorean.Control.IF object at 0x7fb848262700>], 'L': [<cmuToKorean.CMUToKorean.Control.IF object at 0x7fb848262850>], 'R': [<cmuToKorean.CMUToKorean.Control.IF object at 0x7fb848262cd0>], 'S': [<cmuToKorean.CMUToKorean.Control.IF object at 0x7fb8482631c0>], 'NG': [<cmuToKorean.CMUToKorean.Control.IF object at 0x7fb848263640>], 'SH': ['/ㅅ#'], 'CH': [<cmuToKorean.CMUToKorean.Control.IF object at 0x7fb848263700>], 'DH': [<cmuToKorean.CMUToKorean.Control.IF object at 0x7fb8482638e0>], 'JH': [<cmuToKorean.CMUToKorean.Control.IF object at 0x7fb848263cd0>], 'TH': [<cmuToKorean.CMUToKorean.Control.IF object at 0x7fb848263d90>], 'ZH': [<cmuToKorean.CMUToKorean.Control.IF object at 0x7fb848268100>]}\n",
      "1 [[['AE1'], 'A'], [['L', 'G'], 'LG'], [['ER0'], 'OR'], [['IH2'], 'I'], [['DH', 'AH0', 'M'], 'THM']] [1, 1] ['애ㄹ^'] ['ㄱ']\n",
      "2 ['애ㄹ^ㄱ']\n",
      "0 ER0 ER 0\n",
      "-1 {'AA': [<cmuToKorean.CMUToKorean.Control.IF object at 0x7fb849ba6eb0>], 'AO': ['오', '어'], 'AE': ['애'], 'AY': ['아이', '애이', '아이+', '애이+'], 'AH': [<cmuToKorean.CMUToKorean.Control.IF object at 0x7fb849ba6100>], 'AW': ['아우', '오우', '아우+', '오우+'], 'EH': ['에'], 'ER': [<cmuToKorean.CMUToKorean.Control.IF object at 0x7fb8482b2d60>, <cmuToKorean.CMUToKorean.Control.IF object at 0x7fb8482b2f70>], 'EY': ['에이', '에이+', '에'], 'EY2': ['에이', '에이+'], 'IH': ['이'], 'IY': ['이', '이+'], 'UW': ['우', '우+'], 'UH': [<cmuToKorean.CMUToKorean.Control.IF object at 0x7fb848262070>], 'OW': [<cmuToKorean.CMUToKorean.Control.IF object at 0x7fb848262610>], 'OY': ['오이', '오이+']}\n",
      "1 [[['AE1'], 'A'], [['L', 'G'], 'LG'], [['ER0'], 'OR'], [['IH2'], 'I'], [['DH', 'AH0', 'M'], 'THM']] [2, 0] ['애ㄹ^ㄱ'] [<cmuToKorean.CMUToKorean.Control.IF object at 0x7fb8482b2d60>, <cmuToKorean.CMUToKorean.Control.IF object at 0x7fb8482b2f70>]\n",
      "2 ['애ㄹ^ㄱ어/ㄹ', '애ㄹ^ㄱ오/ㄹ']\n",
      "0 IH2 IH 2\n",
      "-1 {'AA': [<cmuToKorean.CMUToKorean.Control.IF object at 0x7fb849ba6eb0>], 'AO': ['오', '어'], 'AE': ['애'], 'AY': ['아이', '애이', '아이+', '애이+'], 'AH': [<cmuToKorean.CMUToKorean.Control.IF object at 0x7fb849ba6100>], 'AW': ['아우', '오우', '아우+', '오우+'], 'EH': ['에'], 'ER': [<cmuToKorean.CMUToKorean.Control.IF object at 0x7fb8482b2d60>, <cmuToKorean.CMUToKorean.Control.IF object at 0x7fb8482b2f70>], 'EY': ['에이', '에이+', '에'], 'EY2': ['에이', '에이+'], 'IH': ['이'], 'IY': ['이', '이+'], 'UW': ['우', '우+'], 'UH': [<cmuToKorean.CMUToKorean.Control.IF object at 0x7fb848262070>], 'OW': [<cmuToKorean.CMUToKorean.Control.IF object at 0x7fb848262610>], 'OY': ['오이', '오이+']}\n",
      "1 [[['AE1'], 'A'], [['L', 'G'], 'LG'], [['ER0'], 'OR'], [['IH2'], 'I'], [['DH', 'AH0', 'M'], 'THM']] [3, 0] ['애ㄹ^ㄱ어/ㄹ', '애ㄹ^ㄱ오/ㄹ'] ['이']\n",
      "2 ['애ㄹ^ㄱ어/ㄹ이', '애ㄹ^ㄱ오/ㄹ이']\n",
      "0 DH DH None\n",
      "-1 {'B': ['ㅂ'], 'D': ['ㄷ'], 'F': ['ㅍ'], 'G': ['ㄱ'], 'K': ['ㅋ'], 'M': ['ㅁ'], 'N': ['ㄴ'], 'P': ['ㅍ'], 'T': ['ㅌ'], 'V': ['ㅂ'], 'HH': ['/ㅎ'], 'Z': [<cmuToKorean.CMUToKorean.Control.IF object at 0x7fb848262700>], 'L': [<cmuToKorean.CMUToKorean.Control.IF object at 0x7fb848262850>], 'R': [<cmuToKorean.CMUToKorean.Control.IF object at 0x7fb848262cd0>], 'S': [<cmuToKorean.CMUToKorean.Control.IF object at 0x7fb8482631c0>], 'NG': [<cmuToKorean.CMUToKorean.Control.IF object at 0x7fb848263640>], 'SH': ['/ㅅ#'], 'CH': [<cmuToKorean.CMUToKorean.Control.IF object at 0x7fb848263700>], 'DH': [<cmuToKorean.CMUToKorean.Control.IF object at 0x7fb8482638e0>], 'JH': [<cmuToKorean.CMUToKorean.Control.IF object at 0x7fb848263cd0>], 'TH': [<cmuToKorean.CMUToKorean.Control.IF object at 0x7fb848263d90>], 'ZH': [<cmuToKorean.CMUToKorean.Control.IF object at 0x7fb848268100>]}\n",
      "1 [[['AE1'], 'A'], [['L', 'G'], 'LG'], [['ER0'], 'OR'], [['IH2'], 'I'], [['DH', 'AH0', 'M'], 'THM']] [4, 0] ['애ㄹ^ㄱ어/ㄹ이', '애ㄹ^ㄱ오/ㄹ이'] [<cmuToKorean.CMUToKorean.Control.IF object at 0x7fb8482638e0>]\n",
      "2 ['애ㄹ^ㄱ어/ㄹ이ㅅ', '애ㄹ^ㄱ오/ㄹ이ㅅ']\n",
      "0 AH0 AH 0\n",
      "-1 {'AA': [<cmuToKorean.CMUToKorean.Control.IF object at 0x7fb849ba6eb0>], 'AO': ['오', '어'], 'AE': ['애'], 'AY': ['아이', '애이', '아이+', '애이+'], 'AH': [<cmuToKorean.CMUToKorean.Control.IF object at 0x7fb849ba6100>], 'AW': ['아우', '오우', '아우+', '오우+'], 'EH': ['에'], 'ER': [<cmuToKorean.CMUToKorean.Control.IF object at 0x7fb8482b2d60>, <cmuToKorean.CMUToKorean.Control.IF object at 0x7fb8482b2f70>], 'EY': ['에이', '에이+', '에'], 'EY2': ['에이', '에이+'], 'IH': ['이'], 'IY': ['이', '이+'], 'UW': ['우', '우+'], 'UH': [<cmuToKorean.CMUToKorean.Control.IF object at 0x7fb848262070>], 'OW': [<cmuToKorean.CMUToKorean.Control.IF object at 0x7fb848262610>], 'OY': ['오이', '오이+']}\n",
      "1 [[['AE1'], 'A'], [['L', 'G'], 'LG'], [['ER0'], 'OR'], [['IH2'], 'I'], [['DH', 'AH0', 'M'], 'THM']] [4, 1] ['애ㄹ^ㄱ어/ㄹ이ㅅ', '애ㄹ^ㄱ오/ㄹ이ㅅ'] [<cmuToKorean.CMUToKorean.Control.IF object at 0x7fb849ba6100>]\n",
      "2 []\n",
      "0 M M None\n",
      "-1 {'B': ['ㅂ'], 'D': ['ㄷ'], 'F': ['ㅍ'], 'G': ['ㄱ'], 'K': ['ㅋ'], 'M': ['ㅁ'], 'N': ['ㄴ'], 'P': ['ㅍ'], 'T': ['ㅌ'], 'V': ['ㅂ'], 'HH': ['/ㅎ'], 'Z': [<cmuToKorean.CMUToKorean.Control.IF object at 0x7fb848262700>], 'L': [<cmuToKorean.CMUToKorean.Control.IF object at 0x7fb848262850>], 'R': [<cmuToKorean.CMUToKorean.Control.IF object at 0x7fb848262cd0>], 'S': [<cmuToKorean.CMUToKorean.Control.IF object at 0x7fb8482631c0>], 'NG': [<cmuToKorean.CMUToKorean.Control.IF object at 0x7fb848263640>], 'SH': ['/ㅅ#'], 'CH': [<cmuToKorean.CMUToKorean.Control.IF object at 0x7fb848263700>], 'DH': [<cmuToKorean.CMUToKorean.Control.IF object at 0x7fb8482638e0>], 'JH': [<cmuToKorean.CMUToKorean.Control.IF object at 0x7fb848263cd0>], 'TH': [<cmuToKorean.CMUToKorean.Control.IF object at 0x7fb848263d90>], 'ZH': [<cmuToKorean.CMUToKorean.Control.IF object at 0x7fb848268100>]}\n",
      "1 [[['AE1'], 'A'], [['L', 'G'], 'LG'], [['ER0'], 'OR'], [['IH2'], 'I'], [['DH', 'AH0', 'M'], 'THM']] [4, 2] [] ['ㅁ']\n",
      "2 ['ㅁ']\n",
      "3 ['ㅁ']\n"
     ]
    },
    {
     "data": {
      "text/plain": [
       "'므'"
      ]
     },
     "execution_count": 3,
     "metadata": {},
     "output_type": "execute_result"
    }
   ],
   "source": [
    "normalize(\"algorithm\")"
   ]
  },
  {
   "cell_type": "code",
   "execution_count": 7,
   "id": "49331033",
   "metadata": {},
   "outputs": [],
   "source": [
    "map  =[[['AE1'], 'A'], [['L', 'G'], 'LG'], [['ER0'], 'OR'], [['IH2'], 'I'], [['DH', 'AH0', 'M'], 'THM']]"
   ]
  },
  {
   "cell_type": "code",
   "execution_count": 8,
   "id": "3c8a074d",
   "metadata": {},
   "outputs": [],
   "source": [
    "index = [4,1]"
   ]
  },
  {
   "cell_type": "code",
   "execution_count": 9,
   "id": "361da6ed",
   "metadata": {},
   "outputs": [],
   "source": [
    "combination = ['애ㄹ^ㄱ어/ㄹ이ㅅ', '애ㄹ^ㄱ오/ㄹ이ㅅ']"
   ]
  },
  {
   "cell_type": "code",
   "execution_count": 10,
   "id": "f9840359",
   "metadata": {},
   "outputs": [],
   "source": [
    "value =  ref_dict[\"AH\"]"
   ]
  },
  {
   "cell_type": "code",
   "execution_count": null,
   "id": "0c29adaa",
   "metadata": {},
   "outputs": [],
   "source": []
  },
  {
   "cell_type": "code",
   "execution_count": 4,
   "id": "ce092c4a",
   "metadata": {},
   "outputs": [
    {
     "data": {
      "text/plain": [
       "True"
      ]
     },
     "execution_count": 4,
     "metadata": {},
     "output_type": "execute_result"
    }
   ],
   "source": [
    "\"AH0\" not in CMUToKorean.operation_set"
   ]
  },
  {
   "cell_type": "code",
   "execution_count": 5,
   "id": "a3ba275e",
   "metadata": {},
   "outputs": [
    {
     "data": {
      "text/plain": [
       "True"
      ]
     },
     "execution_count": 5,
     "metadata": {},
     "output_type": "execute_result"
    }
   ],
   "source": [
    "\"AH\" in CMUToKorean.vowel_to_korean_dict"
   ]
  },
  {
   "cell_type": "code",
   "execution_count": 6,
   "id": "adc45844",
   "metadata": {},
   "outputs": [],
   "source": [
    "ref_dict = CMUToKorean.vowel_to_korean_dict"
   ]
  },
  {
   "cell_type": "code",
   "execution_count": 9,
   "id": "17735a8d",
   "metadata": {},
   "outputs": [
    {
     "data": {
      "text/plain": [
       "False"
      ]
     },
     "execution_count": 9,
     "metadata": {},
     "output_type": "execute_result"
    }
   ],
   "source": [
    "\"0\" and \"AH0\" in ref_dict"
   ]
  },
  {
   "cell_type": "code",
   "execution_count": 10,
   "id": "a8fd5169",
   "metadata": {},
   "outputs": [],
   "source": [
    "value =  ref_dict[\"AH\"]"
   ]
  },
  {
   "cell_type": "code",
   "execution_count": 12,
   "id": "faca9cea",
   "metadata": {},
   "outputs": [
    {
     "data": {
      "text/plain": [
       "[]"
      ]
     },
     "execution_count": 12,
     "metadata": {},
     "output_type": "execute_result"
    }
   ],
   "source": [
    "CMUToKorean._join_process(map, index, combination, value)"
   ]
  },
  {
   "cell_type": "code",
   "execution_count": 6,
   "id": "0771fab3",
   "metadata": {},
   "outputs": [
    {
     "data": {
      "text/plain": [
       "{'AA': [<cmuToKorean.CMUToKorean.Control.IF at 0x7f46da0eca60>],\n",
       " 'AO': ['오', '어'],\n",
       " 'AE': ['애'],\n",
       " 'AY': ['아이', '애이', '아이+', '애이+'],\n",
       " 'AH': [<cmuToKorean.CMUToKorean.Control.IF at 0x7f46da0eca00>],\n",
       " 'AW': ['아우', '오우', '아우+', '오우+'],\n",
       " 'EH': ['에'],\n",
       " 'ER': [<cmuToKorean.CMUToKorean.Control.IF at 0x7f46c87d8d60>,\n",
       "  <cmuToKorean.CMUToKorean.Control.IF at 0x7f46c87d8f70>],\n",
       " 'EY': ['에이', '에이+', '에'],\n",
       " 'EY2': ['에이', '에이+'],\n",
       " 'IH': ['이'],\n",
       " 'IY': ['이', '이+'],\n",
       " 'UW': ['우', '우+'],\n",
       " 'UH': [<cmuToKorean.CMUToKorean.Control.IF at 0x7f46c8789070>],\n",
       " 'OW': [<cmuToKorean.CMUToKorean.Control.IF at 0x7f46c8789610>],\n",
       " 'OY': ['오이', '오이+']}"
      ]
     },
     "execution_count": 6,
     "metadata": {},
     "output_type": "execute_result"
    }
   ],
   "source": [
    "CMUToKorean.vowel_to_korean_dict"
   ]
  },
  {
   "cell_type": "code",
   "execution_count": 20,
   "id": "67d59c97",
   "metadata": {},
   "outputs": [
    {
     "data": {
      "text/plain": [
       "['애ㄹ^ㄱ어/ㄹ이ㅅ', '애ㄹ^ㄱ오/ㄹ이ㅅ']"
      ]
     },
     "execution_count": 20,
     "metadata": {},
     "output_type": "execute_result"
    }
   ],
   "source": [
    "combination"
   ]
  },
  {
   "cell_type": "code",
   "execution_count": 21,
   "id": "8d28dd23",
   "metadata": {},
   "outputs": [
    {
     "name": "stdout",
     "output_type": "stream",
     "text": [
      "[]\n",
      "[]\n"
     ]
    }
   ],
   "source": [
    "if combination and isinstance(combination, list):\n",
    "    build_list = []\n",
    "    for lv in combination:\n",
    "        result = CMUToKorean._join_process(map, index, lv, value)\n",
    "        print(result)\n",
    "        if result:\n",
    "            if isinstance(result, list):\n",
    "                build_list.extend(result)\n",
    "            else:\n",
    "                build_list.append(result)\n"
   ]
  },
  {
   "cell_type": "code",
   "execution_count": null,
   "id": "5c47a9ea",
   "metadata": {},
   "outputs": [],
   "source": []
  }
 ],
 "metadata": {
  "kernelspec": {
   "display_name": "TTS",
   "language": "python",
   "name": "tts"
  },
  "language_info": {
   "codemirror_mode": {
    "name": "ipython",
    "version": 3
   },
   "file_extension": ".py",
   "mimetype": "text/x-python",
   "name": "python",
   "nbconvert_exporter": "python",
   "pygments_lexer": "ipython3",
   "version": "3.8.13"
  }
 },
 "nbformat": 4,
 "nbformat_minor": 5
}
