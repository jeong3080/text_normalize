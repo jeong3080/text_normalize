{
 "cells": [
  {
   "cell_type": "markdown",
   "id": "1b073464",
   "metadata": {},
   "source": [
    "v5 딥러닝 영문 Infer"
   ]
  },
  {
   "cell_type": "markdown",
   "id": "8b24cede",
   "metadata": {},
   "source": [
    "## 시즌 부분 다시 봐야함"
   ]
  },
  {
   "cell_type": "code",
   "execution_count": 10,
   "id": "0c473de7",
   "metadata": {},
   "outputs": [],
   "source": [
    "from text_normalize_v5 import normalize"
   ]
  },
  {
   "cell_type": "code",
   "execution_count": 15,
   "id": "b0a3bca1",
   "metadata": {},
   "outputs": [
    {
     "data": {
      "text/plain": [
       "'일쩜 오버전<br>0.0003초'"
      ]
     },
     "execution_count": 15,
     "metadata": {},
     "output_type": "execute_result"
    }
   ],
   "source": [
    "normalize(\"1.5버전\")"
   ]
  },
  {
   "cell_type": "code",
   "execution_count": null,
   "id": "ac51790f",
   "metadata": {},
   "outputs": [],
   "source": []
  },
  {
   "cell_type": "code",
   "execution_count": null,
   "id": "9562c736",
   "metadata": {},
   "outputs": [],
   "source": []
  }
 ],
 "metadata": {
  "kernelspec": {
   "display_name": "TTS",
   "language": "python",
   "name": "tts"
  },
  "language_info": {
   "codemirror_mode": {
    "name": "ipython",
    "version": 3
   },
   "file_extension": ".py",
   "mimetype": "text/x-python",
   "name": "python",
   "nbconvert_exporter": "python",
   "pygments_lexer": "ipython3",
   "version": "3.8.13"
  }
 },
 "nbformat": 4,
 "nbformat_minor": 5
}
